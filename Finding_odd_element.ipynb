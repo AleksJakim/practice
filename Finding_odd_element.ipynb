{
 "cells": [
  {
   "cell_type": "code",
   "execution_count": 3,
   "metadata": {},
   "outputs": [
    {
     "name": "stdout",
     "output_type": "stream",
     "text": [
      "[7, 9]\n"
     ]
    }
   ],
   "source": [
    "\n",
    "#Finding element that's odd, having two lists.\n",
    "\n",
    "def find_element(list_1, list_2):\n",
    "    result= []\n",
    "    num1=sum(list_1)\n",
    "    num2=sum(list_2)\n",
    "    \n",
    "    for el in list_1:\n",
    "        if el not in list_2 and num1 >= num2:\n",
    "            result.append(el)      \n",
    "        if num1 < num2:\n",
    "            print('Value of first list is less than value of second list') \n",
    "            break\n",
    "    return result \n",
    "\n",
    "list_1 = [1 ,2, 3, 8, 0, 7, 4, 9]\n",
    "list_2 = [3, 4, 8, 0, 1, 2]\n",
    "print(find_element(list_1, list_2))\n"
   ]
  },
  {
   "cell_type": "code",
   "execution_count": null,
   "metadata": {},
   "outputs": [],
   "source": []
  }
 ],
 "metadata": {
  "kernelspec": {
   "display_name": "Python 3",
   "language": "python",
   "name": "python3"
  },
  "language_info": {
   "codemirror_mode": {
    "name": "ipython",
    "version": 3
   },
   "file_extension": ".py",
   "mimetype": "text/x-python",
   "name": "python",
   "nbconvert_exporter": "python",
   "pygments_lexer": "ipython3",
   "version": "3.7.3"
  }
 },
 "nbformat": 4,
 "nbformat_minor": 2
}
