{
 "cells": [
  {
   "cell_type": "code",
   "execution_count": null,
   "metadata": {},
   "outputs": [],
   "source": [
    "def is_leap():\n",
    "\n",
    "\n",
    "    1900 <= year <= 10**5\n",
    "    if year%4==0 and year%100!=0:\n",
    "        print('True, is leap!')\n",
    "    elif year%4==0 and year%400==0:\n",
    "        print('True, is leap!')\n",
    "    elif year%4==0 and year%100==0 and year%400==0:\n",
    "        print('True, is leap!')\n",
    "    else:\n",
    "        print('False, is not leap!')\n",
    "    \n",
    "year = int(input('Enter the year you want to check: '))\n",
    "print('You chose', year)\n",
    "\n",
    "is_leap()\n",
    "    \n"
   ]
  },
  {
   "cell_type": "code",
   "execution_count": null,
   "metadata": {},
   "outputs": [],
   "source": []
  }
 ],
 "metadata": {
  "kernelspec": {
   "display_name": "Python 3",
   "language": "python",
   "name": "python3"
  },
  "language_info": {
   "codemirror_mode": {
    "name": "ipython",
    "version": 3
   },
   "file_extension": ".py",
   "mimetype": "text/x-python",
   "name": "python",
   "nbconvert_exporter": "python",
   "pygments_lexer": "ipython3",
   "version": "3.7.3"
  }
 },
 "nbformat": 4,
 "nbformat_minor": 2
}
